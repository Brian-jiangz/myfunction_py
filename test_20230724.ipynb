{
 "cells": [
  {
   "cell_type": "code",
   "execution_count": 3,
   "metadata": {},
   "outputs": [],
   "source": [
    "import numpy as np \n",
    "import pandas as pd \n",
    "## 自定义函数库\n",
    "import data_rb as dr # 读取二进制数据\n",
    "import find_files_with_string as ffws # 查找文件\n",
    "## 其他库\n",
    "import glob # 读取文件夹下的文件\n",
    "\n",
    "\n",
    "# 基于字典的变量赋值，包含两个字典infor和data，分别存储路径和数据集\n",
    "## 定义一个字典inf，用于存储各类信息\n",
    "inf = {\n",
    "    \"ind\": {\n",
    "        \"ip\": {\n",
    "            \"parent\": \"F:\\Module\\AOPB\\output_FWF0\\output\",\n",
    "        }\n",
    "    }\n",
    "}\n",
    "\n",
    "## 使用ffws自定义函数读取输入文件夹下的所有dta文件名称\n",
    "inf[\"ind\"][\"ip\"][\"filelist\"] = ffws.find_files_with_string(inf[\"ind\"][\"ip\"][\"parent\"],\".dta\",\"gct\")\n"
   ]
  },
  {
   "cell_type": "code",
   "execution_count": 4,
   "metadata": {},
   "outputs": [
    {
     "data": {
      "text/plain": [
       "'\\n按照文件名中的数字进行排序\\n此处1是第一个.和第二点时间的字符串，-2是倒数第二个.和倒数第一个.之间的字符串\\n'"
      ]
     },
     "execution_count": 4,
     "metadata": {},
     "output_type": "execute_result"
    }
   ],
   "source": [
    "# 根据文件名中的时间信息顺序进行排序\n",
    "# 文件名称应该为“xxx.002030”\n",
    "file_list = inf[\"ind\"][\"ip\"][\"filelist\"]\n",
    "file_list.sort(key=lambda x: int(x.split('.')[1])) \n",
    "'''\n",
    "按照文件名中的数字进行排序\n",
    "此处1是第一个.和第二点时间的字符串，-2是倒数第二个.和倒数第一个.之间的字符串\n",
    "'''"
   ]
  },
  {
   "cell_type": "code",
   "execution_count": 5,
   "metadata": {},
   "outputs": [
    {
     "name": "stdout",
     "output_type": "stream",
     "text": [
      "\n",
      "\n",
      "\n",
      "\n",
      "\n",
      "\n",
      "\n",
      "\n",
      "\n",
      "\n",
      "\n",
      "\n",
      "\n",
      "\n",
      "\n",
      "\n",
      "\n",
      "\n",
      "\n",
      "\n",
      "\n"
     ]
    }
   ],
   "source": [
    "data_list = {}\n",
    "merge_data_3d = []\n",
    "time_line = []\n",
    "for file_path in file_list:\n",
    "    # 提取文件名中的时间信息\n",
    "    time_info = int(file_path.split('.')[1]+file_path.split('.')[2]+file_path.split('.')[3])\n",
    "    time_line.append(time_info)\n",
    "    \n",
    "    # 依次读取file_list中的文件，并将其存储到data_list中\n",
    "    file_path = inf[\"ind\"][\"ip\"][\"parent\"] + \"\\\\\" + file_path\n",
    "    data_tem = dr.data_rb(file_path) \n",
    "    merge_data_3d.append(data_tem)\n",
    "    print()\n",
    "    # 将merge_data_3d转换为三维数据"
   ]
  },
  {
   "cell_type": "code",
   "execution_count": 6,
   "metadata": {},
   "outputs": [
    {
     "name": "stdout",
     "output_type": "stream",
     "text": [
      "2\n",
      "(21, 3516240)\n"
     ]
    }
   ],
   "source": [
    "print(np.array(merge_data_3d).ndim)\n",
    "print(np.array(merge_data_3d).shape)"
   ]
  },
  {
   "cell_type": "code",
   "execution_count": 19,
   "metadata": {},
   "outputs": [
    {
     "name": "stdout",
     "output_type": "stream",
     "text": [
      "<class 'numpy.ndarray'>\n",
      "(3516240,)\n"
     ]
    }
   ],
   "source": [
    "print(type(merge_data_3d))\n",
    "print(np.transpose(merge_data_3d).shape)"
   ]
  },
  {
   "cell_type": "code",
   "execution_count": 18,
   "metadata": {},
   "outputs": [
    {
     "ename": "TypeError",
     "evalue": "only integer scalar arrays can be converted to a scalar index",
     "output_type": "error",
     "traceback": [
      "\u001b[1;31m---------------------------------------------------------------------------\u001b[0m",
      "\u001b[1;31mTypeError\u001b[0m                                 Traceback (most recent call last)",
      "Cell \u001b[1;32mIn[18], line 9\u001b[0m\n\u001b[0;32m      6\u001b[0m data_frame \u001b[39m=\u001b[39m np\u001b[39m.\u001b[39mtranspose(merge_data_3d)\n\u001b[0;32m      8\u001b[0m \u001b[39m# dataframe转化\u001b[39;00m\n\u001b[1;32m----> 9\u001b[0m data_frame \u001b[39m=\u001b[39m pd\u001b[39m.\u001b[39mDataFrame(data_frame,columns\u001b[39m=\u001b[39m[\u001b[39mf\u001b[39m\u001b[39m\"\u001b[39m\u001b[39mTime \u001b[39m\u001b[39m{\u001b[39;00mi\u001b[39m+\u001b[39m\u001b[39m1\u001b[39m\u001b[39m}\u001b[39;00m\u001b[39m\"\u001b[39m \u001b[39mfor\u001b[39;00m i \u001b[39min\u001b[39;00m \u001b[39mrange\u001b[39m(data_frame[\u001b[39m1\u001b[39m])])\n\u001b[0;32m     11\u001b[0m \u001b[39m# 统计信息\u001b[39;00m\n\u001b[0;32m     12\u001b[0m statistics \u001b[39m=\u001b[39m data_frame\u001b[39m.\u001b[39mdescribe()\n",
      "\u001b[1;31mTypeError\u001b[0m: only integer scalar arrays can be converted to a scalar index"
     ]
    }
   ],
   "source": [
    "if not isinstance(merge_data_3d, np.ndarray):\n",
    "        merge_data_3d = np.array(merge_data_3d)\n",
    "        \n",
    "# 获取变量的维度\n",
    "data_shape = merge_data_3d.shape\n",
    "data_frame = np.transpose(merge_data_3d)\n",
    "    \n",
    "# dataframe转化\n",
    "data_frame = pd.DataFrame(data_frame,columns=[f\"Time {i+1}\" for i in range(data_frame[1])])\n",
    "    \n",
    "# 统计信息\n",
    "statistics = data_frame.describe()"
   ]
  },
  {
   "cell_type": "code",
   "execution_count": 32,
   "metadata": {},
   "outputs": [],
   "source": [
    "    # 依次读取file_list中的文件，并将其存储到data_list中\n",
    "    file_path = inf[\"ind\"][\"ip\"][\"parent\"] + \"\\\\\" + file_path\n",
    "    data_tem = dr.data_rb(file_path) merge_data_3d = merge_data_3d.append(data_tem)\n",
    "    \n",
    "    # 将merge_data_3d转换为三维数据\n",
    "    three_dimensional_data = merge_data_3d.pivot(index=\"latitude\", columns=\"longitude\", values=\"value\")\n",
    "    \n",
    "    # 生成三维数据\n",
    "    data_list = {\n",
    "        file_path.split('.')[0]:{\n",
    "            \"raw\":{\n",
    "                \"time\":time_info,\n",
    "            }            \n",
    "        }\n",
    "    }"
   ]
  }
 ],
 "metadata": {
  "kernelspec": {
   "display_name": "Python 3",
   "language": "python",
   "name": "python3"
  },
  "language_info": {
   "codemirror_mode": {
    "name": "ipython",
    "version": 3
   },
   "file_extension": ".py",
   "mimetype": "text/x-python",
   "name": "python",
   "nbconvert_exporter": "python",
   "pygments_lexer": "ipython3",
   "version": "3.11.3"
  },
  "orig_nbformat": 4
 },
 "nbformat": 4,
 "nbformat_minor": 2
}
