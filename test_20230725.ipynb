{
 "cells": [
  {
   "cell_type": "code",
   "execution_count": 14,
   "metadata": {},
   "outputs": [],
   "source": [
    "import numpy as np \n",
    "import pandas as pd \n",
    "## 自定义函数库\n",
    "import data_rb as dr # 读取二进制数据\n",
    "# import find_files_with_string as ffws # 查找文件\n",
    "from dataprocesser_AOPB import dataprocesser_AOPB as dpa\n",
    "## 其他库\n",
    "import glob # 读取文件夹下的文件\n",
    "\n",
    "\n",
    "# 基于字典的变量赋值，包含两个字典infor和data，分别存储路径和数据集\n",
    "## 定义一个字典inf，用于存储各类信息\n",
    "info = {\n",
    "    \"ind\": {\n",
    "        \"ip\": {\n",
    "            \"parent\": \"F:\\Module\\AOPB\\output_FWF0\\output\",\n",
    "        }\n",
    "    },\n",
    "    \"data\":{\n",
    "        \"raw\":{\n",
    "            \"dim\":{\n",
    "                \"lon\":161,\n",
    "                \"lat\":91,\n",
    "                \"year\":20,\n",
    "                \"month\":12,\n",
    "                \"day\":1\n",
    "            }\n",
    "        }\n",
    "    },\n",
    "    \"conter\":{\n",
    "        \"fig\":0,\n",
    "        \"file\":0\n",
    "    },\n",
    "    \"var\":{\n",
    "        \"file\":{\n",
    "            \"extension\":\".dta\"\n",
    "        },\n",
    "        \"datanow\":{\n",
    "            \"name\":\"sst\",\n",
    "            \"search_string\":\"gct\"\n",
    "        }   \n",
    "    }\n",
    "}\n",
    "\n",
    "## 定义一个字典data，用于存储数据\n",
    "data = {\n",
    "    \"raw\":{\n",
    "        \"dataset\":[],\n",
    "        \"time\":[],\n",
    "        \"dataset_5d\":[]\n",
    "    }\n",
    "}"
   ]
  },
  {
   "cell_type": "code",
   "execution_count": 15,
   "metadata": {},
   "outputs": [],
   "source": [
    "## 使用ffws自定义函数读取输入文件夹下的所有dta文件名称\n",
    "info = dpa.find_files_with_string(info)"
   ]
  },
  {
   "cell_type": "code",
   "execution_count": 16,
   "metadata": {},
   "outputs": [
    {
     "data": {
      "text/plain": [
       "'\\n按照文件名中的数字进行排序\\n此处1是第一个.和第二点时间的字符串，-2是倒数第二个.和倒数第一个.之间的字符串\\n'"
      ]
     },
     "execution_count": 16,
     "metadata": {},
     "output_type": "execute_result"
    }
   ],
   "source": [
    "# 根据文件名中的时间信息顺序进行排序\n",
    "# 文件名称应该为“xxx.002030”\n",
    "file_list = info[\"ind\"][\"ip\"][\"fileslist\"]\n",
    "file_list.sort(key=lambda x: int(x.split('.')[1])) \n",
    "'''\n",
    "按照文件名中的数字进行排序\n",
    "此处1是第一个.和第二点时间的字符串，-2是倒数第二个.和倒数第一个.之间的字符串\n",
    "'''"
   ]
  },
  {
   "cell_type": "code",
   "execution_count": 17,
   "metadata": {},
   "outputs": [],
   "source": [
    "data_list = {}\n",
    "data_line = []\n",
    "time_line = []\n",
    "for file_path in file_list:\n",
    "    # 提取文件名中的时间信息\n",
    "    time_info = int(file_path.split('.')[1]+file_path.split('.')[2]+file_path.split('.')[3])\n",
    "    time_line.append(time_info)\n",
    "    del time_info\n",
    "    \n",
    "    # 依次读取file_list中的文件，并将其存储到data_list中\n",
    "    info[\"ind\"][\"ip\"][\"filepath\"] = info[\"ind\"][\"ip\"][\"parent\"] + \"\\\\\" + file_path\n",
    "    data_tem = dpa.data_rb(info) \n",
    "    data_line.append(data_tem)\n",
    "    del data_tem\n",
    "    # 将merge_data_3d转换为三维数据"
   ]
  },
  {
   "cell_type": "code",
   "execution_count": 22,
   "metadata": {},
   "outputs": [],
   "source": [
    "data[\"raw\"][\"dataset\"] = np.array(data_line)\n",
    "data[\"raw\"][\"time\"] = np.array(time_line)"
   ]
  },
  {
   "cell_type": "code",
   "execution_count": 23,
   "metadata": {},
   "outputs": [
    {
     "name": "stdout",
     "output_type": "stream",
     "text": [
      "2\n",
      "(21, 3516240)\n"
     ]
    }
   ],
   "source": [
    "print(np.array(data[\"raw\"][\"dataset\"]).ndim)\n",
    "print(np.array(data[\"raw\"][\"dataset\"]).shape)"
   ]
  },
  {
   "cell_type": "code",
   "execution_count": 24,
   "metadata": {},
   "outputs": [
    {
     "name": "stdout",
     "output_type": "stream",
     "text": [
      "<class 'numpy.ndarray'>\n",
      "(3516240, 21)\n"
     ]
    }
   ],
   "source": [
    "print(type(data[\"raw\"][\"dataset\"]))\n",
    "print(np.transpose(data[\"raw\"][\"dataset\"]).shape)"
   ]
  },
  {
   "cell_type": "code",
   "execution_count": 25,
   "metadata": {},
   "outputs": [],
   "source": [
    "if not isinstance(data[\"raw\"][\"dataset\"], np.ndarray):\n",
    "        data_2d = np.array(data[\"raw\"][\"dataset\"])\n",
    "else:\n",
    "        data_2d = data[\"raw\"][\"dataset\"]\n",
    "        \n",
    "# 获取变量的维度\n",
    "data_shape = data_2d.shape\n",
    "data_frame = np.transpose(data_2d)\n",
    "    \n",
    "# dataframe转化\n",
    "data_frame = pd.DataFrame(data_frame,columns=[f\"Time {i+1}\" for i in data_frame[0]])\n",
    "    \n",
    "# 统计信息\n",
    "statistics = data_frame.describe()"
   ]
  }
 ],
 "metadata": {
  "kernelspec": {
   "display_name": "Python 3",
   "language": "python",
   "name": "python3"
  },
  "language_info": {
   "codemirror_mode": {
    "name": "ipython",
    "version": 3
   },
   "file_extension": ".py",
   "mimetype": "text/x-python",
   "name": "python",
   "nbconvert_exporter": "python",
   "pygments_lexer": "ipython3",
   "version": "3.11.3"
  },
  "orig_nbformat": 4
 },
 "nbformat": 4,
 "nbformat_minor": 2
}
